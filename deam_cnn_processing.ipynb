{
 "cells": [
  {
   "cell_type": "code",
   "execution_count": 2,
   "metadata": {},
   "outputs": [],
   "source": [
    "import zipfile as zf\n",
    "import os\n",
    "\n",
    "os.chdir(my_features_path)\n",
    "mfcc_files = zf.ZipFile(\"mfcc.zip\", 'r')\n",
    "mfcc_files.extractall('mfcc/')\n",
    "mfcc_files.close()"
   ]
  },
  {
   "cell_type": "code",
   "execution_count": 6,
   "metadata": {},
   "outputs": [],
   "source": [
    "import zipfile38 as zf38\n",
    "mel_spectogram_files = zf38.ZipFile(\"mel_spectogram_features.zip\", 'r')\n",
    "mel_spectogram_files.extractall()\n",
    "mel_spectogram_files.close()"
   ]
  },
  {
   "cell_type": "code",
   "execution_count": 4,
   "metadata": {},
   "outputs": [],
   "source": [
    "gemaps_files =  zf38.ZipFile(\"gemaps_data.zip\", 'r')\n",
    "gemaps_files.extractall()\n",
    "gemaps_files.close()"
   ]
  },
  {
   "cell_type": "code",
   "execution_count": 3,
   "metadata": {},
   "outputs": [
    {
     "data": {
      "text/plain": [
       "[PhysicalDevice(name='/physical_device:GPU:0', device_type='GPU')]"
      ]
     },
     "execution_count": 3,
     "metadata": {},
     "output_type": "execute_result"
    }
   ],
   "source": [
    "tf.config.list_physical_devices('GPU')"
   ]
  },
  {
   "cell_type": "code",
   "execution_count": 15,
   "metadata": {},
   "outputs": [
    {
     "data": {
      "text/plain": [
       "['best_model2',\n",
       " 'deam-dataset',\n",
       " 'valid_data.npz',\n",
       " 'deam_data_fetch.py',\n",
       " 'best_model',\n",
       " 'deam_cnn_processing.ipynb',\n",
       " '.Trash-1000',\n",
       " 'train_data.npz',\n",
       " 'deam_cnn.py',\n",
       " 'test_cnn_log.txt',\n",
       " 'test_data.npz',\n",
       " 'deam_cnn_model.ipynb',\n",
       " 'DEAM_CNN-LSTM.ipynb',\n",
       " '.ipynb_checkpoints',\n",
       " 'deam-dataset.zip',\n",
       " '__pycache__']"
      ]
     },
     "execution_count": 15,
     "metadata": {},
     "output_type": "execute_result"
    }
   ],
   "source": [
    "os.chdir('..')\n",
    "os.listdir()"
   ]
  },
  {
   "cell_type": "code",
   "execution_count": 21,
   "metadata": {},
   "outputs": [
    {
     "data": {
      "text/plain": [
       "(1802, 1920, 20)"
      ]
     },
     "execution_count": 21,
     "metadata": {},
     "output_type": "execute_result"
    }
   ],
   "source": [
    "def fetch_mfcc(dir):\n",
    "    files = os.listdir(dir)\n",
    "    csv_files = list(filter(lambda f: '.csv' in f, files))\n",
    "    mfcc_files = sorted(csv_files, key=lambda f: int(f[5:][:-4]))   # sort by audio index (remove 'mfcc' and '.csv')\n",
    "    mfcc_data = np.empty(shape=(len(mfcc_files), 1920, 20), dtype=np.float32)\n",
    "    for i, f in enumerate(mfcc_files):\n",
    "        if '.csv' not in f: continue \n",
    "        p = os.path.join(dir, f)\n",
    "        mfcc = np.loadtxt(p, delimiter=',')\n",
    "        truncated_mfcc = mfcc[:, :1920]\n",
    "        mfcc_data[i] = truncated_mfcc.T\n",
    "    return mfcc_data\n",
    "\n",
    "my_features_path = 'deam-dataset/my_features/'\n",
    "mfcc_path = os.path.join(my_features_path, 'mfcc')\n",
    "mfcc_data = fetch_mfcc(mfcc_path)\n",
    "mfcc_data.shape"
   ]
  },
  {
   "cell_type": "code",
   "execution_count": 22,
   "metadata": {},
   "outputs": [
    {
     "data": {
      "text/plain": [
       "(1802, 1920, 128)"
      ]
     },
     "execution_count": 22,
     "metadata": {},
     "output_type": "execute_result"
    }
   ],
   "source": [
    "def fetch_mel_spectograms(dir):\n",
    "    files = os.listdir(dir)\n",
    "    csv_files = list(filter(lambda f: '.csv' in f, files))\n",
    "    mel_files = sorted(csv_files, key=lambda f: int(f[len('mel_spectogram_'):][:-4]))   # sort by audio index (remove 'mel_spectogram_' and '.csv')\n",
    "    mel_spec_data = np.empty(shape=(len(mel_files), 1920, 128, ), dtype=np.float32)\n",
    "\n",
    "    for i, f in enumerate(mel_files):\n",
    "        p = os.path.join(dir, f)\n",
    "        mel_spec = np.loadtxt(p, delimiter=',', dtype=np.float32)\n",
    "        truncated_mel_spec = mel_spec[:, :1920]\n",
    "        mel_spec_data[i] = truncated_mel_spec.T\n",
    "    return mel_spec_data\n",
    "\n",
    "mel_path = os.path.join(my_features_path, 'mel_spectogram_features')\n",
    "mel_spec_data = fetch_mel_spectograms(mel_path)\n",
    "mel_spec_data.shape"
   ]
  },
  {
   "cell_type": "code",
   "execution_count": 23,
   "metadata": {},
   "outputs": [],
   "source": [
    "np.save('mfcc_data', mfcc_data)\n",
    "np.save('mel_spectogram_data', mel_spec_data)"
   ]
  },
  {
   "cell_type": "code",
   "execution_count": 24,
   "metadata": {},
   "outputs": [
    {
     "data": {
      "text/html": [
       "<div>\n",
       "<style scoped>\n",
       "    .dataframe tbody tr th:only-of-type {\n",
       "        vertical-align: middle;\n",
       "    }\n",
       "\n",
       "    .dataframe tbody tr th {\n",
       "        vertical-align: top;\n",
       "    }\n",
       "\n",
       "    .dataframe thead th {\n",
       "        text-align: right;\n",
       "    }\n",
       "</style>\n",
       "<table border=\"1\" class=\"dataframe\">\n",
       "  <thead>\n",
       "    <tr style=\"text-align: right;\">\n",
       "      <th></th>\n",
       "      <th>song_id</th>\n",
       "      <th>valence_mean</th>\n",
       "      <th>valence_std</th>\n",
       "      <th>arousal_mean</th>\n",
       "      <th>arousal_std</th>\n",
       "    </tr>\n",
       "  </thead>\n",
       "  <tbody>\n",
       "    <tr>\n",
       "      <th>0</th>\n",
       "      <td>2</td>\n",
       "      <td>3.10</td>\n",
       "      <td>0.94</td>\n",
       "      <td>3.00</td>\n",
       "      <td>0.63</td>\n",
       "    </tr>\n",
       "    <tr>\n",
       "      <th>1</th>\n",
       "      <td>3</td>\n",
       "      <td>3.50</td>\n",
       "      <td>1.75</td>\n",
       "      <td>3.30</td>\n",
       "      <td>1.62</td>\n",
       "    </tr>\n",
       "    <tr>\n",
       "      <th>2</th>\n",
       "      <td>4</td>\n",
       "      <td>5.70</td>\n",
       "      <td>1.42</td>\n",
       "      <td>5.50</td>\n",
       "      <td>1.63</td>\n",
       "    </tr>\n",
       "    <tr>\n",
       "      <th>3</th>\n",
       "      <td>5</td>\n",
       "      <td>4.40</td>\n",
       "      <td>2.01</td>\n",
       "      <td>5.30</td>\n",
       "      <td>1.85</td>\n",
       "    </tr>\n",
       "    <tr>\n",
       "      <th>4</th>\n",
       "      <td>7</td>\n",
       "      <td>5.80</td>\n",
       "      <td>1.47</td>\n",
       "      <td>6.40</td>\n",
       "      <td>1.69</td>\n",
       "    </tr>\n",
       "    <tr>\n",
       "      <th>...</th>\n",
       "      <td>...</td>\n",
       "      <td>...</td>\n",
       "      <td>...</td>\n",
       "      <td>...</td>\n",
       "      <td>...</td>\n",
       "    </tr>\n",
       "    <tr>\n",
       "      <th>1797</th>\n",
       "      <td>2054</td>\n",
       "      <td>5.40</td>\n",
       "      <td>1.20</td>\n",
       "      <td>3.60</td>\n",
       "      <td>1.36</td>\n",
       "    </tr>\n",
       "    <tr>\n",
       "      <th>1798</th>\n",
       "      <td>2055</td>\n",
       "      <td>5.00</td>\n",
       "      <td>1.41</td>\n",
       "      <td>5.20</td>\n",
       "      <td>1.47</td>\n",
       "    </tr>\n",
       "    <tr>\n",
       "      <th>1799</th>\n",
       "      <td>2056</td>\n",
       "      <td>5.00</td>\n",
       "      <td>1.41</td>\n",
       "      <td>4.60</td>\n",
       "      <td>1.74</td>\n",
       "    </tr>\n",
       "    <tr>\n",
       "      <th>1800</th>\n",
       "      <td>2057</td>\n",
       "      <td>3.17</td>\n",
       "      <td>1.07</td>\n",
       "      <td>6.83</td>\n",
       "      <td>0.37</td>\n",
       "    </tr>\n",
       "    <tr>\n",
       "      <th>1801</th>\n",
       "      <td>2058</td>\n",
       "      <td>3.80</td>\n",
       "      <td>0.75</td>\n",
       "      <td>5.80</td>\n",
       "      <td>1.17</td>\n",
       "    </tr>\n",
       "  </tbody>\n",
       "</table>\n",
       "<p>1802 rows × 5 columns</p>\n",
       "</div>"
      ],
      "text/plain": [
       "      song_id  valence_mean  valence_std  arousal_mean  arousal_std\n",
       "0           2          3.10         0.94          3.00         0.63\n",
       "1           3          3.50         1.75          3.30         1.62\n",
       "2           4          5.70         1.42          5.50         1.63\n",
       "3           5          4.40         2.01          5.30         1.85\n",
       "4           7          5.80         1.47          6.40         1.69\n",
       "...       ...           ...          ...           ...          ...\n",
       "1797     2054          5.40         1.20          3.60         1.36\n",
       "1798     2055          5.00         1.41          5.20         1.47\n",
       "1799     2056          5.00         1.41          4.60         1.74\n",
       "1800     2057          3.17         1.07          6.83         0.37\n",
       "1801     2058          3.80         0.75          5.80         1.17\n",
       "\n",
       "[1802 rows x 5 columns]"
      ]
     },
     "execution_count": 24,
     "metadata": {},
     "output_type": "execute_result"
    }
   ],
   "source": [
    "# fetch labels\n",
    "label_path = 'deam-dataset/DEAM_Annotations/annotations/annotations averaged per song/song_level/';\n",
    "labels_1_2000 = pd.read_csv(os.path.join(label_path, 'static_annotations_averaged_songs_1_2000.csv'))\n",
    "labels_2000_2058 = pd.read_csv(os.path.join(label_path,'static_annotations_averaged_songs_2000_2058.csv'))\n",
    "labels = pd.concat([labels_1_2000, labels_2000_2058], ignore_index=True, sort=False)\n",
    "labels = labels[labels_1_2000.columns]\n",
    "labels.columns = labels.columns.str.replace(' ', '')\n",
    "\n",
    "labels"
   ]
  },
  {
   "cell_type": "code",
   "execution_count": 25,
   "metadata": {},
   "outputs": [
    {
     "data": {
      "text/plain": [
       "(1802, 2)"
      ]
     },
     "execution_count": 25,
     "metadata": {},
     "output_type": "execute_result"
    }
   ],
   "source": [
    "valence = labels['valence_mean'].to_numpy()\n",
    "arousal = labels['arousal_mean'].to_numpy()\n",
    "y = np.vstack([valence, arousal]).T\n",
    "y.shape"
   ]
  },
  {
   "cell_type": "code",
   "execution_count": 26,
   "metadata": {},
   "outputs": [
    {
     "name": "stdout",
     "output_type": "stream",
     "text": [
      "Concatenated input shape:  (1802, 1920, 148)\n"
     ]
    }
   ],
   "source": [
    "concat_input = np.concatenate((mfcc_data, mel_spec_data), 2)\n",
    "print('Concatenated input shape: ', concat_input.shape)"
   ]
  }
 ],
 "metadata": {
  "interpreter": {
   "hash": "f9f85f796d01129d0dd105a088854619f454435301f6ffec2fea96ecbd9be4ac"
  },
  "kernelspec": {
   "display_name": "Python 3",
   "language": "python",
   "name": "python3"
  },
  "language_info": {
   "codemirror_mode": {
    "name": "ipython",
    "version": 3
   },
   "file_extension": ".py",
   "mimetype": "text/x-python",
   "name": "python",
   "nbconvert_exporter": "python",
   "pygments_lexer": "ipython3",
   "version": "3.6.10"
  }
 },
 "nbformat": 4,
 "nbformat_minor": 4
}
